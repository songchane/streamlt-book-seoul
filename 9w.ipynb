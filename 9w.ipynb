{
 "cells": [
  {
   "cell_type": "markdown",
   "id": "d2f4f5ac",
   "metadata": {},
   "source": [
    "## (복습) 2월과 3월 아파트 평균 가격의 차이가 있는가?(차이검정)"
   ]
  },
  {
   "cell_type": "code",
   "execution_count": 1,
   "id": "544342a6",
   "metadata": {},
   "outputs": [
    {
     "name": "stdout",
     "output_type": "stream",
     "text": [
      "Collecting pingouin\n",
      "  Obtaining dependency information for pingouin from https://files.pythonhosted.org/packages/35/2e/8ca90e7edc93bc3d3bdf6daa6d5fc5ae4882994171c3db765365227e1d58/pingouin-0.5.4-py2.py3-none-any.whl.metadata\n",
      "  Downloading pingouin-0.5.4-py2.py3-none-any.whl.metadata (1.1 kB)\n",
      "Requirement already satisfied: numpy in c:\\programdata\\anaconda3\\lib\\site-packages (from pingouin) (1.24.3)\n",
      "Requirement already satisfied: scipy in c:\\programdata\\anaconda3\\lib\\site-packages (from pingouin) (1.11.1)\n",
      "Requirement already satisfied: pandas>=1.5 in c:\\programdata\\anaconda3\\lib\\site-packages (from pingouin) (2.0.3)\n",
      "Requirement already satisfied: matplotlib in c:\\programdata\\anaconda3\\lib\\site-packages (from pingouin) (3.7.2)\n",
      "Requirement already satisfied: seaborn in c:\\programdata\\anaconda3\\lib\\site-packages (from pingouin) (0.12.2)\n",
      "Requirement already satisfied: statsmodels in c:\\programdata\\anaconda3\\lib\\site-packages (from pingouin) (0.14.0)\n",
      "Requirement already satisfied: scikit-learn in c:\\programdata\\anaconda3\\lib\\site-packages (from pingouin) (1.3.0)\n",
      "Collecting pandas-flavor (from pingouin)\n",
      "  Obtaining dependency information for pandas-flavor from https://files.pythonhosted.org/packages/67/1a/bfb5574b215f530c7ac5be684f33d60b299abbebd763c203aa31755f2fb2/pandas_flavor-0.6.0-py3-none-any.whl.metadata\n",
      "  Downloading pandas_flavor-0.6.0-py3-none-any.whl.metadata (6.3 kB)\n",
      "Requirement already satisfied: tabulate in c:\\programdata\\anaconda3\\lib\\site-packages (from pingouin) (0.8.10)\n",
      "Requirement already satisfied: python-dateutil>=2.8.2 in c:\\programdata\\anaconda3\\lib\\site-packages (from pandas>=1.5->pingouin) (2.8.2)\n",
      "Requirement already satisfied: pytz>=2020.1 in c:\\programdata\\anaconda3\\lib\\site-packages (from pandas>=1.5->pingouin) (2023.3.post1)\n",
      "Requirement already satisfied: tzdata>=2022.1 in c:\\programdata\\anaconda3\\lib\\site-packages (from pandas>=1.5->pingouin) (2023.3)\n",
      "Requirement already satisfied: contourpy>=1.0.1 in c:\\programdata\\anaconda3\\lib\\site-packages (from matplotlib->pingouin) (1.0.5)\n",
      "Requirement already satisfied: cycler>=0.10 in c:\\programdata\\anaconda3\\lib\\site-packages (from matplotlib->pingouin) (0.11.0)\n",
      "Requirement already satisfied: fonttools>=4.22.0 in c:\\programdata\\anaconda3\\lib\\site-packages (from matplotlib->pingouin) (4.25.0)\n",
      "Requirement already satisfied: kiwisolver>=1.0.1 in c:\\programdata\\anaconda3\\lib\\site-packages (from matplotlib->pingouin) (1.4.4)\n",
      "Requirement already satisfied: packaging>=20.0 in c:\\programdata\\anaconda3\\lib\\site-packages (from matplotlib->pingouin) (23.1)\n",
      "Requirement already satisfied: pillow>=6.2.0 in c:\\programdata\\anaconda3\\lib\\site-packages (from matplotlib->pingouin) (9.4.0)\n",
      "Requirement already satisfied: pyparsing<3.1,>=2.3.1 in c:\\programdata\\anaconda3\\lib\\site-packages (from matplotlib->pingouin) (3.0.9)\n",
      "Requirement already satisfied: xarray in c:\\programdata\\anaconda3\\lib\\site-packages (from pandas-flavor->pingouin) (2023.6.0)\n",
      "Requirement already satisfied: joblib>=1.1.1 in c:\\programdata\\anaconda3\\lib\\site-packages (from scikit-learn->pingouin) (1.2.0)\n",
      "Requirement already satisfied: threadpoolctl>=2.0.0 in c:\\programdata\\anaconda3\\lib\\site-packages (from scikit-learn->pingouin) (2.2.0)\n",
      "Requirement already satisfied: patsy>=0.5.2 in c:\\programdata\\anaconda3\\lib\\site-packages (from statsmodels->pingouin) (0.5.3)\n",
      "Requirement already satisfied: six in c:\\programdata\\anaconda3\\lib\\site-packages (from patsy>=0.5.2->statsmodels->pingouin) (1.16.0)\n",
      "Downloading pingouin-0.5.4-py2.py3-none-any.whl (198 kB)\n",
      "   ---------------------------------------- 0.0/198.9 kB ? eta -:--:--\n",
      "   -- ------------------------------------- 10.2/198.9 kB ? eta -:--:--\n",
      "   ---- ---------------------------------- 20.5/198.9 kB 217.9 kB/s eta 0:00:01\n",
      "   ---- ---------------------------------- 20.5/198.9 kB 217.9 kB/s eta 0:00:01\n",
      "   -------- ------------------------------ 41.0/198.9 kB 245.8 kB/s eta 0:00:01\n",
      "   ---------------- ---------------------- 81.9/198.9 kB 383.3 kB/s eta 0:00:01\n",
      "   ---------------- ---------------------- 81.9/198.9 kB 383.3 kB/s eta 0:00:01\n",
      "   ------------------ -------------------- 92.2/198.9 kB 327.7 kB/s eta 0:00:01\n",
      "   ------------------ -------------------- 92.2/198.9 kB 327.7 kB/s eta 0:00:01\n",
      "   --------------------- ---------------- 112.6/198.9 kB 273.1 kB/s eta 0:00:01\n",
      "   ----------------------- -------------- 122.9/198.9 kB 288.8 kB/s eta 0:00:01\n",
      "   ----------------------- -------------- 122.9/198.9 kB 288.8 kB/s eta 0:00:01\n",
      "   ----------------------- -------------- 122.9/198.9 kB 288.8 kB/s eta 0:00:01\n",
      "   --------------------------- ---------- 143.4/198.9 kB 258.5 kB/s eta 0:00:01\n",
      "   --------------------------- ---------- 143.4/198.9 kB 258.5 kB/s eta 0:00:01\n",
      "   ------------------------------- ------ 163.8/198.9 kB 252.2 kB/s eta 0:00:01\n",
      "   ------------------------------- ------ 163.8/198.9 kB 252.2 kB/s eta 0:00:01\n",
      "   --------------------------------- ---- 174.1/198.9 kB 233.1 kB/s eta 0:00:01\n",
      "   --------------------------------- ---- 174.1/198.9 kB 233.1 kB/s eta 0:00:01\n",
      "   --------------------------------- ---- 174.1/198.9 kB 233.1 kB/s eta 0:00:01\n",
      "   --------------------------------- ---- 174.1/198.9 kB 233.1 kB/s eta 0:00:01\n",
      "   --------------------------------- ---- 174.1/198.9 kB 233.1 kB/s eta 0:00:01\n",
      "   --------------------------------- ---- 174.1/198.9 kB 233.1 kB/s eta 0:00:01\n",
      "   --------------------------------- ---- 174.1/198.9 kB 233.1 kB/s eta 0:00:01\n",
      "   --------------------------------- ---- 174.1/198.9 kB 233.1 kB/s eta 0:00:01\n",
      "   --------------------------------- ---- 174.1/198.9 kB 233.1 kB/s eta 0:00:01\n",
      "   --------------------------------- ---- 174.1/198.9 kB 233.1 kB/s eta 0:00:01\n",
      "   --------------------------------- ---- 174.1/198.9 kB 233.1 kB/s eta 0:00:01\n",
      "   --------------------------------- ---- 174.1/198.9 kB 233.1 kB/s eta 0:00:01\n",
      "   --------------------------------- ---- 174.1/198.9 kB 233.1 kB/s eta 0:00:01\n",
      "   -------------------------------------- 198.9/198.9 kB 147.2 kB/s eta 0:00:00\n",
      "Downloading pandas_flavor-0.6.0-py3-none-any.whl (7.2 kB)\n",
      "Installing collected packages: pandas-flavor, pingouin\n",
      "Successfully installed pandas-flavor-0.6.0 pingouin-0.5.4\n"
     ]
    }
   ],
   "source": [
    "!pip install pingouin"
   ]
  },
  {
   "cell_type": "code",
   "execution_count": 2,
   "id": "79ab269a",
   "metadata": {},
   "outputs": [
    {
     "name": "stdout",
     "output_type": "stream",
     "text": [
      "2월 아파트 평균 가격(만원) :  107010.86292962357\n",
      "3월 아파트 평균 가격(만원) :  93951.16883116883\n"
     ]
    },
    {
     "data": {
      "text/html": [
       "<div>\n",
       "<style scoped>\n",
       "    .dataframe tbody tr th:only-of-type {\n",
       "        vertical-align: middle;\n",
       "    }\n",
       "\n",
       "    .dataframe tbody tr th {\n",
       "        vertical-align: top;\n",
       "    }\n",
       "\n",
       "    .dataframe thead th {\n",
       "        text-align: right;\n",
       "    }\n",
       "</style>\n",
       "<table border=\"1\" class=\"dataframe\">\n",
       "  <thead>\n",
       "    <tr style=\"text-align: right;\">\n",
       "      <th></th>\n",
       "      <th>T</th>\n",
       "      <th>dof</th>\n",
       "      <th>alternative</th>\n",
       "      <th>p-val</th>\n",
       "      <th>CI95%</th>\n",
       "      <th>cohen-d</th>\n",
       "      <th>BF10</th>\n",
       "      <th>power</th>\n",
       "    </tr>\n",
       "  </thead>\n",
       "  <tbody>\n",
       "    <tr>\n",
       "      <th>T-test</th>\n",
       "      <td>5.155249</td>\n",
       "      <td>2792.413094</td>\n",
       "      <td>two-sided</td>\n",
       "      <td>2.709830e-07</td>\n",
       "      <td>[8092.4, 18026.99]</td>\n",
       "      <td>0.166668</td>\n",
       "      <td>2.167e+04</td>\n",
       "      <td>0.995301</td>\n",
       "    </tr>\n",
       "  </tbody>\n",
       "</table>\n",
       "</div>"
      ],
      "text/plain": [
       "               T          dof alternative         p-val               CI95%  \\\n",
       "T-test  5.155249  2792.413094   two-sided  2.709830e-07  [8092.4, 18026.99]   \n",
       "\n",
       "         cohen-d       BF10     power  \n",
       "T-test  0.166668  2.167e+04  0.995301  "
      ]
     },
     "execution_count": 2,
     "metadata": {},
     "output_type": "execute_result"
    }
   ],
   "source": [
    "from pingouin import ttest\n",
    "import pandas as pd\n",
    "\n",
    "seoul = pd.read_csv(\"seoul_real_estate.csv\", parse_dates=['DEAL_YMD'])\n",
    "seoul['month'] = seoul['DEAL_YMD'].dt.month\n",
    "apt_df = seoul[(seoul['HOUSE_TYPE'] == '아파트') & (seoul['month'].isin([2, 3]))]\n",
    "\n",
    "dec_df = apt_df[apt_df['month'] == 2]\n",
    "nov_df = apt_df[apt_df['month'] == 3]\n",
    "\n",
    "print('2월 아파트 평균 가격(만원) : ', dec_df['OBJ_AMT'].mean())\n",
    "print('3월 아파트 평균 가격(만원) : ', nov_df['OBJ_AMT'].mean())\n",
    "ttest(dec_df['OBJ_AMT'], nov_df['OBJ_AMT'], paired=False)"
   ]
  },
  {
   "cell_type": "markdown",
   "id": "9d0bf3d5",
   "metadata": {},
   "source": [
    "**p-val : 5.915944x10-9, p-val 값이 0.05보다 작은 값으로 2월과 3월의 평균 가격은 같지 않다.**"
   ]
  },
  {
   "cell_type": "markdown",
   "id": "61a60e01",
   "metadata": {},
   "source": [
    "## (복습 2) 2월과 3월 아파트 평균 가격의 차이가 있는가? (차이 검정) - 시각화"
   ]
  },
  {
   "cell_type": "code",
   "execution_count": 3,
   "id": "de6a86ea",
   "metadata": {
    "scrolled": true
   },
   "outputs": [
    {
     "data": {
      "image/png": "[encoded data removed]",
      "text/plain": [
       "<Figure size 640x480 with 1 Axes>"
      ]
     },
     "metadata": {},
     "output_type": "display_data"
    }
   ],
   "source": [
    "import seaborn as sns\n",
    "import matplotlib.pyplot as plt\n",
    "fig, ax = plt.subplots()\n",
    "sns.pointplot(x = 'month', y = 'OBJ_AMT', data = apt_df)\n",
    "sns.despine()\n",
    "plt.savefig('stat01.png', dpi=200)\n",
    "plt.show()"
   ]
  },
  {
   "cell_type": "markdown",
   "id": "bc41ff01",
   "metadata": {},
   "source": [
    "**오차 막대는 95% 신뢰구간을 나타냄**"
   ]
  },
  {
   "cell_type": "code",
   "execution_count": null,
   "id": "88acfb45",
   "metadata": {},
   "outputs": [],
   "source": []
  }
 ],
 "metadata": {
  "kernelspec": {
   "display_name": "Python 3 (ipykernel)",
   "language": "python",
   "name": "python3"
  },
  "language_info": {
   "codemirror_mode": {
    "name": "ipython",
    "version": 3
   },
   "file_extension": ".py",
   "mimetype": "text/x-python",
   "name": "python",
   "nbconvert_exporter": "python",
   "pygments_lexer": "ipython3",
   "version": "3.11.5"
  }
 },
 "nbformat": 4,
 "nbformat_minor": 5
}
